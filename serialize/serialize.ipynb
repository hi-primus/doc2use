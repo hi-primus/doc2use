{
 "cells": [
  {
   "cell_type": "code",
   "execution_count": 15,
   "metadata": {
    "collapsed": true
   },
   "outputs": [],
   "source": [
    "import json\n",
    "import serialize_pb2  # Make sure to import data_pb2\n",
    "\n",
    "# Read JSON data\n",
    "with open('../embeddings.json', 'r') as f:\n",
    "    json_data = json.load(f)\n",
    "\n",
    "# Create a protobuf message\n",
    "data_message = serialize_pb2.Data()\n",
    "# Populate the protobuf message with the JSON data\n",
    "data_message.embed.extend(json_data[\"embed\"])\n",
    "data_message.fn.extend(json_data[\"fn\"])\n",
    "data_message.name.extend(json_data[\"name\"])\n",
    "data_message.doc.extend(json_data[\"doc\"])\n",
    "\n",
    "# Serialize the protobuf message to a binary format\n",
    "serialized_data = data_message.SerializeToString()\n",
    "\n",
    "# Save the serialized data to a file\n",
    "with open(\"output.bin\", \"wb\") as output_file:\n",
    "    output_file.write(serialized_data)"
   ]
  },
  {
   "cell_type": "markdown",
   "source": [
    "# Deserialize"
   ],
   "metadata": {
    "collapsed": false
   }
  },
  {
   "cell_type": "code",
   "execution_count": 19,
   "outputs": [
    {
     "name": "stdout",
     "output_type": "stream",
     "text": [
      "Doc: Appends one or more columns or dataframes.\n"
     ]
    }
   ],
   "source": [
    "import serialize_pb2  # Make sure to import data_pb2\n",
    "\n",
    "# Create an empty protobuf message\n",
    "deserialized_message = serialize_pb2.Data()\n",
    "\n",
    "# Read the binary data from the file\n",
    "with open(\"output.bin\", \"rb\") as input_file:\n",
    "    serialized_data = input_file.read()\n",
    "\n",
    "# Deserialize the binary data into the protobuf message\n",
    "deserialized_message.ParseFromString(serialized_data)\n",
    "\n",
    "# Now you can access the deserialized message fields\n",
    "# print(\"Embed:\", deserialized_message.embed)\n",
    "# print(\"Fn:\", deserialized_message.fn)\n",
    "# print(\"Name:\", deserialized_message.name)\n",
    "print(\"Doc:\", deserialized_message.doc[0])\n"
   ],
   "metadata": {
    "collapsed": false
   }
  }
 ],
 "metadata": {
  "kernelspec": {
   "display_name": "Python 3",
   "language": "python",
   "name": "python3"
  },
  "language_info": {
   "codemirror_mode": {
    "name": "ipython",
    "version": 2
   },
   "file_extension": ".py",
   "mimetype": "text/x-python",
   "name": "python",
   "nbconvert_exporter": "python",
   "pygments_lexer": "ipython2",
   "version": "2.7.6"
  }
 },
 "nbformat": 4,
 "nbformat_minor": 0
}
